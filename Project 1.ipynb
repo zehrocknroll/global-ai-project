{
 "cells": [
  {
   "cell_type": "markdown",
   "id": "4be25fae",
   "metadata": {},
   "source": [
    "# Proje 1\n",
    "\n",
    "## projede bir öğrenci not sistemi oluşturacaksınız. Sizden istenilenler:\n",
    "\n",
    "### Kendinize bir ders belirleyiniz. (Matematik,Fizik, Lineer Cebir vb.)\n",
    "### Not aralığınızı oluşturunuz (100-80 ⇒ A, 79-70 ⇒ B vb.)\n",
    "### Öğrenci Bilgilerini (Ad, Soyad, Okul No, sınav puanı) girebileceğiniz ve bu bilgilerin tutulabileceği bir sistem oluşturunuz.\n",
    "### Girilen bilgilerden yola çıkarak öğrencinin dersi geçip geçmediğini göstermesi gerekmektedir.\n",
    "### Öğrenci dersi geçti ise öğrencinin bilgilerinin tutulduğu alana “Geçti” yazısı, öğrenci dersi geçemedi ise “kaldı” yazısını göstermesi gerekmektedir.\n",
    "### Notları girilen öğrencilerden dersi geçenleri ve geçmeyenleri gösteren bir Dataframe oluşturunuz. \n",
    "### Oluşturulan Dataframe’i Excel tablosuna dönüştürünüz.\n"
   ]
  },
  {
   "cell_type": "code",
   "execution_count": 1,
   "id": "ae5178ad",
   "metadata": {},
   "outputs": [],
   "source": [
    "#kütüphanelerin import edilmesi\n",
    "import numpy as np\n",
    "import pandas as pd"
   ]
  },
  {
   "cell_type": "code",
   "execution_count": 20,
   "id": "383b4aea",
   "metadata": {},
   "outputs": [],
   "source": [
    "ogrenciListe = {}\n",
    "dersGecme = [\"KALDI\", \"GEÇTİ\"]\n",
    "\n",
    "\n",
    "def ogrenciEkle():\n",
    "  ogrenciAd = input(\"Öğrenci'nin adını giriniz : \")\n",
    "  ogrenciSoyad = input(\"\\nÖğrenci'nin soyadını giriniz: \")\n",
    "\n",
    "  ogrenciAdSoyad = f\"{ogrenciAd} \".capitalize() + f\"{ogrenciSoyad}\".upper()\n",
    "\n",
    "  ogrenciOkulNo = input(\"Öğrencinin okul numarasını giriniz: \")\n",
    "  ogrenciSinavNotu = int(input(\"Öğrencinin sınav notunu giriniz: \"))\n",
    "\n",
    "  if ogrenciSinavNotu > 100 or ogrenciSinavNotu < 0:\n",
    "      ogrenciSinavNotu = int(input(\"Aykırı değer! Öğrencinin sınav notunu giriniz: \"))\n",
    "  \n",
    "\n",
    "  if ogrenciSinavNotu >= 50:\n",
    "      ogrenciDersGecmeDurumu = dersGecme[1]\n",
    "  else:\n",
    "      ogrenciDersGecmeDurumu = dersGecme[0]\n",
    "\n",
    "  ogrenciListe[ogrenciAdSoyad] = [ogrenciOkulNo, ogrenciSinavNotu, ogrenciDersGecmeDurumu]"
   ]
  },
  {
   "cell_type": "code",
   "execution_count": 37,
   "id": "9add1765",
   "metadata": {},
   "outputs": [],
   "source": [
    "def dataFrame(OgrenciNotListe): \n",
    "  global ogrenci\n",
    "  ogrenci = pd.DataFrame.from_dict(OgrenciNotListe, orient ='index')\n",
    "  ogrenci.columns = ['Okul No','Ders Notu','Durum(Kaldı,Geçti)']\n",
    "  ogrenci.info()\n",
    "  return ogrenci"
   ]
  },
  {
   "cell_type": "code",
   "execution_count": 22,
   "id": "e3fc9205",
   "metadata": {},
   "outputs": [
    {
     "name": "stdout",
     "output_type": "stream",
     "text": [
      "Öğrenci'nin adını giriniz : Zehra\n",
      "\n",
      "Öğrenci'nin soyadını giriniz: Kara\n",
      "Öğrencinin okul numarasını giriniz: 681\n",
      "Öğrencinin sınav notunu giriniz: 90\n"
     ]
    }
   ],
   "source": [
    "ogrenciEkle()"
   ]
  },
  {
   "cell_type": "code",
   "execution_count": 28,
   "id": "c113f61d",
   "metadata": {},
   "outputs": [
    {
     "data": {
      "text/plain": [
       "dict_items([('Zehra KARA', ['681', 90, 'GEÇTİ'])])"
      ]
     },
     "execution_count": 28,
     "metadata": {},
     "output_type": "execute_result"
    }
   ],
   "source": [
    "ogrenciListe.items()"
   ]
  },
  {
   "cell_type": "code",
   "execution_count": 29,
   "id": "209630cf",
   "metadata": {},
   "outputs": [],
   "source": [
    "ogrenciListe.clear()"
   ]
  },
  {
   "cell_type": "code",
   "execution_count": 30,
   "id": "9ac104a2",
   "metadata": {},
   "outputs": [
    {
     "data": {
      "text/plain": [
       "{}"
      ]
     },
     "execution_count": 30,
     "metadata": {},
     "output_type": "execute_result"
    }
   ],
   "source": [
    "ogrenciListe"
   ]
  },
  {
   "cell_type": "code",
   "execution_count": 31,
   "id": "0220c735",
   "metadata": {},
   "outputs": [
    {
     "name": "stdout",
     "output_type": "stream",
     "text": [
      "Öğrenci'nin adını giriniz : Keanu \n",
      "\n",
      "Öğrenci'nin soyadını giriniz: Reeves\n",
      "Öğrencinin okul numarasını giriniz: 1\n",
      "Öğrencinin sınav notunu giriniz: 100\n"
     ]
    }
   ],
   "source": [
    "ogrenciEkle()\n"
   ]
  },
  {
   "cell_type": "code",
   "execution_count": 32,
   "id": "0d7cb422",
   "metadata": {},
   "outputs": [
    {
     "name": "stdout",
     "output_type": "stream",
     "text": [
      "Öğrenci'nin adını giriniz : Hugo \n",
      "\n",
      "Öğrenci'nin soyadını giriniz: Weaving\n",
      "Öğrencinin okul numarasını giriniz: 2\n",
      "Öğrencinin sınav notunu giriniz: 90\n"
     ]
    }
   ],
   "source": [
    "ogrenciEkle()"
   ]
  },
  {
   "cell_type": "code",
   "execution_count": 33,
   "id": "a312ed41",
   "metadata": {},
   "outputs": [
    {
     "name": "stdout",
     "output_type": "stream",
     "text": [
      "Öğrenci'nin adını giriniz : Carrie-Anne \n",
      "\n",
      "Öğrenci'nin soyadını giriniz: Moss\n",
      "Öğrencinin okul numarasını giriniz: 3\n",
      "Öğrencinin sınav notunu giriniz: 42\n"
     ]
    }
   ],
   "source": [
    "ogrenciEkle()"
   ]
  },
  {
   "cell_type": "code",
   "execution_count": 34,
   "id": "a8f2fdf3",
   "metadata": {},
   "outputs": [
    {
     "data": {
      "text/plain": [
       "dict_items([('Keanu  REEVES', ['1', 100, 'GEÇTİ']), ('Hugo  WEAVING', ['2', 90, 'GEÇTİ']), ('Carrie-anne  MOSS', ['3', 42, 'KALDI'])])"
      ]
     },
     "execution_count": 34,
     "metadata": {},
     "output_type": "execute_result"
    }
   ],
   "source": [
    "ogrenciListe.items()"
   ]
  },
  {
   "cell_type": "code",
   "execution_count": 38,
   "id": "9c5e01ee",
   "metadata": {},
   "outputs": [
    {
     "name": "stdout",
     "output_type": "stream",
     "text": [
      "<class 'pandas.core.frame.DataFrame'>\n",
      "Index: 3 entries, Keanu  REEVES to Carrie-anne  MOSS\n",
      "Data columns (total 3 columns):\n",
      " #   Column              Non-Null Count  Dtype \n",
      "---  ------              --------------  ----- \n",
      " 0   Okul No             3 non-null      object\n",
      " 1   Ders Notu           3 non-null      int64 \n",
      " 2   Durum(Kaldı,Geçti)  3 non-null      object\n",
      "dtypes: int64(1), object(2)\n",
      "memory usage: 96.0+ bytes\n"
     ]
    },
    {
     "data": {
      "text/html": [
       "<div>\n",
       "<style scoped>\n",
       "    .dataframe tbody tr th:only-of-type {\n",
       "        vertical-align: middle;\n",
       "    }\n",
       "\n",
       "    .dataframe tbody tr th {\n",
       "        vertical-align: top;\n",
       "    }\n",
       "\n",
       "    .dataframe thead th {\n",
       "        text-align: right;\n",
       "    }\n",
       "</style>\n",
       "<table border=\"1\" class=\"dataframe\">\n",
       "  <thead>\n",
       "    <tr style=\"text-align: right;\">\n",
       "      <th></th>\n",
       "      <th>Okul No</th>\n",
       "      <th>Ders Notu</th>\n",
       "      <th>Durum(Kaldı,Geçti)</th>\n",
       "    </tr>\n",
       "  </thead>\n",
       "  <tbody>\n",
       "    <tr>\n",
       "      <th>Keanu  REEVES</th>\n",
       "      <td>1</td>\n",
       "      <td>100</td>\n",
       "      <td>GEÇTİ</td>\n",
       "    </tr>\n",
       "    <tr>\n",
       "      <th>Hugo  WEAVING</th>\n",
       "      <td>2</td>\n",
       "      <td>90</td>\n",
       "      <td>GEÇTİ</td>\n",
       "    </tr>\n",
       "    <tr>\n",
       "      <th>Carrie-anne  MOSS</th>\n",
       "      <td>3</td>\n",
       "      <td>42</td>\n",
       "      <td>KALDI</td>\n",
       "    </tr>\n",
       "  </tbody>\n",
       "</table>\n",
       "</div>"
      ],
      "text/plain": [
       "                  Okul No  Ders Notu Durum(Kaldı,Geçti)\n",
       "Keanu  REEVES           1        100              GEÇTİ\n",
       "Hugo  WEAVING           2         90              GEÇTİ\n",
       "Carrie-anne  MOSS       3         42              KALDI"
      ]
     },
     "execution_count": 38,
     "metadata": {},
     "output_type": "execute_result"
    }
   ],
   "source": [
    "dataFrame(ogrenciListe)"
   ]
  },
  {
   "cell_type": "code",
   "execution_count": null,
   "id": "6b59ab91",
   "metadata": {},
   "outputs": [],
   "source": []
  }
 ],
 "metadata": {
  "kernelspec": {
   "display_name": "Python 3 (ipykernel)",
   "language": "python",
   "name": "python3"
  },
  "language_info": {
   "codemirror_mode": {
    "name": "ipython",
    "version": 3
   },
   "file_extension": ".py",
   "mimetype": "text/x-python",
   "name": "python",
   "nbconvert_exporter": "python",
   "pygments_lexer": "ipython3",
   "version": "3.9.12"
  }
 },
 "nbformat": 4,
 "nbformat_minor": 5
}
